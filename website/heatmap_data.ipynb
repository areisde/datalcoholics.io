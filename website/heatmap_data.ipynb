{
 "cells": [
  {
   "cell_type": "code",
   "execution_count": 1,
   "id": "6bfea109",
   "metadata": {
    "vscode": {
     "languageId": "python"
    }
   },
   "outputs": [],
   "source": [
    "import pandas as pd"
   ]
  },
  {
   "cell_type": "code",
   "execution_count": 16,
   "id": "b96536d7",
   "metadata": {
    "vscode": {
     "languageId": "python"
    }
   },
   "outputs": [
    {
     "data": {
      "text/html": [
       "<div>\n",
       "<style scoped>\n",
       "    .dataframe tbody tr th:only-of-type {\n",
       "        vertical-align: middle;\n",
       "    }\n",
       "\n",
       "    .dataframe tbody tr th {\n",
       "        vertical-align: top;\n",
       "    }\n",
       "\n",
       "    .dataframe thead th {\n",
       "        text-align: right;\n",
       "    }\n",
       "</style>\n",
       "<table border=\"1\" class=\"dataframe\">\n",
       "  <thead>\n",
       "    <tr style=\"text-align: right;\">\n",
       "      <th></th>\n",
       "      <th>restaurant_name</th>\n",
       "      <th>restaurant_link</th>\n",
       "      <th>adress</th>\n",
       "      <th>city_ranking</th>\n",
       "      <th>overall_rating</th>\n",
       "      <th>number_of_reviews</th>\n",
       "      <th>price_range_estimation</th>\n",
       "      <th>cuisines</th>\n",
       "      <th>special_regimes</th>\n",
       "      <th>meal_types</th>\n",
       "      <th>functionalities</th>\n",
       "      <th>cuisine_rating</th>\n",
       "      <th>service_rating</th>\n",
       "      <th>quality_price_rating</th>\n",
       "      <th>mood_rating</th>\n",
       "      <th>michelin</th>\n",
       "      <th>latitude</th>\n",
       "      <th>longitude</th>\n",
       "    </tr>\n",
       "  </thead>\n",
       "  <tbody>\n",
       "    <tr>\n",
       "      <th>0</th>\n",
       "      <td>Bistro Spatz</td>\n",
       "      <td>https://fr.tripadvisor.ch/Restaurant_Review-g1...</td>\n",
       "      <td>Dorfstrasse 2, Freienstein-Teufen 8427 Suisse</td>\n",
       "      <td>7.0</td>\n",
       "      <td>5.0</td>\n",
       "      <td>12</td>\n",
       "      <td>2</td>\n",
       "      <td>Suisse, Européenne</td>\n",
       "      <td>None</td>\n",
       "      <td>Dîner, Petit déjeuner, Déjeuner</td>\n",
       "      <td>Réservations, Places assises, Service de table</td>\n",
       "      <td>5.0</td>\n",
       "      <td>0.0</td>\n",
       "      <td>4.0</td>\n",
       "      <td>0.0</td>\n",
       "      <td>0</td>\n",
       "      <td>0.000000</td>\n",
       "      <td>0.000000</td>\n",
       "    </tr>\n",
       "    <tr>\n",
       "      <th>1</th>\n",
       "      <td>Wirtshus zum Wyberg</td>\n",
       "      <td>https://fr.tripadvisor.ch/Restaurant_Review-g1...</td>\n",
       "      <td>Oberteufenerstrasse 1, Freienstein-Teufen 8428...</td>\n",
       "      <td>2.0</td>\n",
       "      <td>4.5</td>\n",
       "      <td>66</td>\n",
       "      <td>3</td>\n",
       "      <td>Suisse, Européenne, Europe centrale</td>\n",
       "      <td>Végétariens bienvenus, Plats sans gluten</td>\n",
       "      <td>Déjeuner, Dîner, Ouvert tard, Boissons</td>\n",
       "      <td>Réservations, Places assises, Parking, Parking...</td>\n",
       "      <td>4.5</td>\n",
       "      <td>4.5</td>\n",
       "      <td>4.0</td>\n",
       "      <td>4.0</td>\n",
       "      <td>1</td>\n",
       "      <td>47.551620</td>\n",
       "      <td>8.565560</td>\n",
       "    </tr>\n",
       "    <tr>\n",
       "      <th>2</th>\n",
       "      <td>Alpengasthof Tibethuette</td>\n",
       "      <td>https://fr.tripadvisor.ch/Restaurant_Review-g1...</td>\n",
       "      <td>Stilfser Joch, 39020, Stelvio Italie</td>\n",
       "      <td>33.0</td>\n",
       "      <td>4.5</td>\n",
       "      <td>3</td>\n",
       "      <td>0</td>\n",
       "      <td>Italie du Nord</td>\n",
       "      <td>None</td>\n",
       "      <td>None</td>\n",
       "      <td>None</td>\n",
       "      <td>0.0</td>\n",
       "      <td>0.0</td>\n",
       "      <td>0.0</td>\n",
       "      <td>0.0</td>\n",
       "      <td>0</td>\n",
       "      <td>46.529360</td>\n",
       "      <td>10.453207</td>\n",
       "    </tr>\n",
       "    <tr>\n",
       "      <th>3</th>\n",
       "      <td>Tibet Hütte</td>\n",
       "      <td>https://fr.tripadvisor.ch/Restaurant_Review-g1...</td>\n",
       "      <td>Passo Stelvio, 39029, Stelvio Italie</td>\n",
       "      <td>21.0</td>\n",
       "      <td>4.0</td>\n",
       "      <td>109</td>\n",
       "      <td>2</td>\n",
       "      <td>Italienne, Bar, Européenne, Pub</td>\n",
       "      <td>Végétariens bienvenus</td>\n",
       "      <td>Petit déjeuner, Déjeuner, Dîner</td>\n",
       "      <td>Réservations, Terrasse, Places assises, Sert d...</td>\n",
       "      <td>4.0</td>\n",
       "      <td>4.0</td>\n",
       "      <td>3.5</td>\n",
       "      <td>4.5</td>\n",
       "      <td>0</td>\n",
       "      <td>46.527490</td>\n",
       "      <td>10.456244</td>\n",
       "    </tr>\n",
       "    <tr>\n",
       "      <th>4</th>\n",
       "      <td>Restaurant Gallia</td>\n",
       "      <td>https://fr.tripadvisor.ch/Restaurant_Review-g1...</td>\n",
       "      <td>Gomagoi 18, 39029, Stelvio Italie</td>\n",
       "      <td>18.0</td>\n",
       "      <td>4.5</td>\n",
       "      <td>79</td>\n",
       "      <td>2</td>\n",
       "      <td>Internationale, Italienne, Méditerranéenne</td>\n",
       "      <td>Végétariens bienvenus</td>\n",
       "      <td>Déjeuner, Dîner, Petit déjeuner</td>\n",
       "      <td>Parking, Réservations, Parking privé gratuit, ...</td>\n",
       "      <td>5.0</td>\n",
       "      <td>4.5</td>\n",
       "      <td>4.5</td>\n",
       "      <td>0.0</td>\n",
       "      <td>0</td>\n",
       "      <td>46.578594</td>\n",
       "      <td>10.542374</td>\n",
       "    </tr>\n",
       "    <tr>\n",
       "      <th>...</th>\n",
       "      <td>...</td>\n",
       "      <td>...</td>\n",
       "      <td>...</td>\n",
       "      <td>...</td>\n",
       "      <td>...</td>\n",
       "      <td>...</td>\n",
       "      <td>...</td>\n",
       "      <td>...</td>\n",
       "      <td>...</td>\n",
       "      <td>...</td>\n",
       "      <td>...</td>\n",
       "      <td>...</td>\n",
       "      <td>...</td>\n",
       "      <td>...</td>\n",
       "      <td>...</td>\n",
       "      <td>...</td>\n",
       "      <td>...</td>\n",
       "      <td>...</td>\n",
       "    </tr>\n",
       "    <tr>\n",
       "      <th>31638</th>\n",
       "      <td>Golden Dreieck</td>\n",
       "      <td>https://fr.tripadvisor.ch/Restaurant_Review-g9...</td>\n",
       "      <td>Markthallenstr. 1, 78315 Radolfzell am Bodense...</td>\n",
       "      <td>131.0</td>\n",
       "      <td>3.5</td>\n",
       "      <td>20</td>\n",
       "      <td>1</td>\n",
       "      <td>Chinoise, Asiatique</td>\n",
       "      <td>Végétariens bienvenus</td>\n",
       "      <td>Déjeuner</td>\n",
       "      <td>Plats à emporter, Places assises, Accès person...</td>\n",
       "      <td>3.5</td>\n",
       "      <td>3.5</td>\n",
       "      <td>4.0</td>\n",
       "      <td>0.0</td>\n",
       "      <td>0</td>\n",
       "      <td>0.000000</td>\n",
       "      <td>0.000000</td>\n",
       "    </tr>\n",
       "    <tr>\n",
       "      <th>31639</th>\n",
       "      <td>Asia Food</td>\n",
       "      <td>https://fr.tripadvisor.ch/Restaurant_Review-g9...</td>\n",
       "      <td>Robert-Gerwig-Str. 12, 78315 Radolfzell am Bod...</td>\n",
       "      <td>211.0</td>\n",
       "      <td>3.0</td>\n",
       "      <td>18</td>\n",
       "      <td>1</td>\n",
       "      <td>Asiatique</td>\n",
       "      <td>Végétariens bienvenus</td>\n",
       "      <td>Dîner</td>\n",
       "      <td>Plats à emporter, Accès personnes handicapées</td>\n",
       "      <td>3.5</td>\n",
       "      <td>3.0</td>\n",
       "      <td>4.0</td>\n",
       "      <td>0.0</td>\n",
       "      <td>0</td>\n",
       "      <td>0.000000</td>\n",
       "      <td>0.000000</td>\n",
       "    </tr>\n",
       "    <tr>\n",
       "      <th>31640</th>\n",
       "      <td>Cobblers Cafe</td>\n",
       "      <td>https://fr.tripadvisor.ch/Restaurant_Review-g9...</td>\n",
       "      <td>Schmidtengasse 9, 78315 Radolfzell am Bodensee...</td>\n",
       "      <td>121.0</td>\n",
       "      <td>4.5</td>\n",
       "      <td>9</td>\n",
       "      <td>2</td>\n",
       "      <td>Café</td>\n",
       "      <td>None</td>\n",
       "      <td>None</td>\n",
       "      <td>None</td>\n",
       "      <td>5.0</td>\n",
       "      <td>5.0</td>\n",
       "      <td>5.0</td>\n",
       "      <td>0.0</td>\n",
       "      <td>0</td>\n",
       "      <td>0.000000</td>\n",
       "      <td>0.000000</td>\n",
       "    </tr>\n",
       "    <tr>\n",
       "      <th>31641</th>\n",
       "      <td>Indien Mirchi</td>\n",
       "      <td>https://fr.tripadvisor.ch/Restaurant_Review-g9...</td>\n",
       "      <td>Bismarckstr. 2, 78315 Radolfzell am Bodensee, ...</td>\n",
       "      <td>63.0</td>\n",
       "      <td>4.0</td>\n",
       "      <td>90</td>\n",
       "      <td>2</td>\n",
       "      <td>Indienne</td>\n",
       "      <td>Végétariens bienvenus, Choix végétaliens</td>\n",
       "      <td>Déjeuner, Dîner</td>\n",
       "      <td>Plats à emporter, Réservations, Places assises...</td>\n",
       "      <td>4.0</td>\n",
       "      <td>4.5</td>\n",
       "      <td>4.0</td>\n",
       "      <td>0.0</td>\n",
       "      <td>0</td>\n",
       "      <td>0.000000</td>\n",
       "      <td>0.000000</td>\n",
       "    </tr>\n",
       "    <tr>\n",
       "      <th>31642</th>\n",
       "      <td>Café-Restaurant Le Soleil de Châtillon</td>\n",
       "      <td>https://fr.tripadvisor.ch/Restaurant_Review-g9...</td>\n",
       "      <td>Rue Principale 9 Châtillon près de Delémont, C...</td>\n",
       "      <td>51.0</td>\n",
       "      <td>4.0</td>\n",
       "      <td>19</td>\n",
       "      <td>2</td>\n",
       "      <td>Française, Suisse</td>\n",
       "      <td>Végétariens bienvenus, Choix végétaliens</td>\n",
       "      <td>Déjeuner, Dîner, Ouvert tard, Boissons</td>\n",
       "      <td>Réservations, Terrasse, Places assises, Parkin...</td>\n",
       "      <td>0.0</td>\n",
       "      <td>0.0</td>\n",
       "      <td>0.0</td>\n",
       "      <td>0.0</td>\n",
       "      <td>0</td>\n",
       "      <td>0.000000</td>\n",
       "      <td>0.000000</td>\n",
       "    </tr>\n",
       "  </tbody>\n",
       "</table>\n",
       "<p>31643 rows × 18 columns</p>\n",
       "</div>"
      ],
      "text/plain": [
       "                               restaurant_name  \\\n",
       "0                                 Bistro Spatz   \n",
       "1                          Wirtshus zum Wyberg   \n",
       "2                     Alpengasthof Tibethuette   \n",
       "3                                  Tibet Hütte   \n",
       "4                            Restaurant Gallia   \n",
       "...                                        ...   \n",
       "31638                           Golden Dreieck   \n",
       "31639                                Asia Food   \n",
       "31640                            Cobblers Cafe   \n",
       "31641                            Indien Mirchi   \n",
       "31642   Café-Restaurant Le Soleil de Châtillon   \n",
       "\n",
       "                                         restaurant_link  \\\n",
       "0      https://fr.tripadvisor.ch/Restaurant_Review-g1...   \n",
       "1      https://fr.tripadvisor.ch/Restaurant_Review-g1...   \n",
       "2      https://fr.tripadvisor.ch/Restaurant_Review-g1...   \n",
       "3      https://fr.tripadvisor.ch/Restaurant_Review-g1...   \n",
       "4      https://fr.tripadvisor.ch/Restaurant_Review-g1...   \n",
       "...                                                  ...   \n",
       "31638  https://fr.tripadvisor.ch/Restaurant_Review-g9...   \n",
       "31639  https://fr.tripadvisor.ch/Restaurant_Review-g9...   \n",
       "31640  https://fr.tripadvisor.ch/Restaurant_Review-g9...   \n",
       "31641  https://fr.tripadvisor.ch/Restaurant_Review-g9...   \n",
       "31642  https://fr.tripadvisor.ch/Restaurant_Review-g9...   \n",
       "\n",
       "                                                  adress  city_ranking  \\\n",
       "0          Dorfstrasse 2, Freienstein-Teufen 8427 Suisse           7.0   \n",
       "1      Oberteufenerstrasse 1, Freienstein-Teufen 8428...           2.0   \n",
       "2                   Stilfser Joch, 39020, Stelvio Italie          33.0   \n",
       "3                   Passo Stelvio, 39029, Stelvio Italie          21.0   \n",
       "4                      Gomagoi 18, 39029, Stelvio Italie          18.0   \n",
       "...                                                  ...           ...   \n",
       "31638  Markthallenstr. 1, 78315 Radolfzell am Bodense...         131.0   \n",
       "31639  Robert-Gerwig-Str. 12, 78315 Radolfzell am Bod...         211.0   \n",
       "31640  Schmidtengasse 9, 78315 Radolfzell am Bodensee...         121.0   \n",
       "31641  Bismarckstr. 2, 78315 Radolfzell am Bodensee, ...          63.0   \n",
       "31642  Rue Principale 9 Châtillon près de Delémont, C...          51.0   \n",
       "\n",
       "       overall_rating  number_of_reviews  price_range_estimation  \\\n",
       "0                 5.0                 12                       2   \n",
       "1                 4.5                 66                       3   \n",
       "2                 4.5                  3                       0   \n",
       "3                 4.0                109                       2   \n",
       "4                 4.5                 79                       2   \n",
       "...               ...                ...                     ...   \n",
       "31638             3.5                 20                       1   \n",
       "31639             3.0                 18                       1   \n",
       "31640             4.5                  9                       2   \n",
       "31641             4.0                 90                       2   \n",
       "31642             4.0                 19                       2   \n",
       "\n",
       "                                         cuisines  \\\n",
       "0                              Suisse, Européenne   \n",
       "1             Suisse, Européenne, Europe centrale   \n",
       "2                                  Italie du Nord   \n",
       "3                 Italienne, Bar, Européenne, Pub   \n",
       "4      Internationale, Italienne, Méditerranéenne   \n",
       "...                                           ...   \n",
       "31638                         Chinoise, Asiatique   \n",
       "31639                                   Asiatique   \n",
       "31640                                        Café   \n",
       "31641                                    Indienne   \n",
       "31642                           Française, Suisse   \n",
       "\n",
       "                                special_regimes  \\\n",
       "0                                          None   \n",
       "1      Végétariens bienvenus, Plats sans gluten   \n",
       "2                                          None   \n",
       "3                         Végétariens bienvenus   \n",
       "4                         Végétariens bienvenus   \n",
       "...                                         ...   \n",
       "31638                     Végétariens bienvenus   \n",
       "31639                     Végétariens bienvenus   \n",
       "31640                                      None   \n",
       "31641  Végétariens bienvenus, Choix végétaliens   \n",
       "31642  Végétariens bienvenus, Choix végétaliens   \n",
       "\n",
       "                                   meal_types  \\\n",
       "0             Dîner, Petit déjeuner, Déjeuner   \n",
       "1      Déjeuner, Dîner, Ouvert tard, Boissons   \n",
       "2                                        None   \n",
       "3             Petit déjeuner, Déjeuner, Dîner   \n",
       "4             Déjeuner, Dîner, Petit déjeuner   \n",
       "...                                       ...   \n",
       "31638                                Déjeuner   \n",
       "31639                                   Dîner   \n",
       "31640                                    None   \n",
       "31641                         Déjeuner, Dîner   \n",
       "31642  Déjeuner, Dîner, Ouvert tard, Boissons   \n",
       "\n",
       "                                         functionalities  cuisine_rating  \\\n",
       "0         Réservations, Places assises, Service de table             5.0   \n",
       "1      Réservations, Places assises, Parking, Parking...             4.5   \n",
       "2                                                   None             0.0   \n",
       "3      Réservations, Terrasse, Places assises, Sert d...             4.0   \n",
       "4      Parking, Réservations, Parking privé gratuit, ...             5.0   \n",
       "...                                                  ...             ...   \n",
       "31638  Plats à emporter, Places assises, Accès person...             3.5   \n",
       "31639      Plats à emporter, Accès personnes handicapées             3.5   \n",
       "31640                                               None             5.0   \n",
       "31641  Plats à emporter, Réservations, Places assises...             4.0   \n",
       "31642  Réservations, Terrasse, Places assises, Parkin...             0.0   \n",
       "\n",
       "       service_rating  quality_price_rating  mood_rating  michelin   latitude  \\\n",
       "0                 0.0                   4.0          0.0         0   0.000000   \n",
       "1                 4.5                   4.0          4.0         1  47.551620   \n",
       "2                 0.0                   0.0          0.0         0  46.529360   \n",
       "3                 4.0                   3.5          4.5         0  46.527490   \n",
       "4                 4.5                   4.5          0.0         0  46.578594   \n",
       "...               ...                   ...          ...       ...        ...   \n",
       "31638             3.5                   4.0          0.0         0   0.000000   \n",
       "31639             3.0                   4.0          0.0         0   0.000000   \n",
       "31640             5.0                   5.0          0.0         0   0.000000   \n",
       "31641             4.5                   4.0          0.0         0   0.000000   \n",
       "31642             0.0                   0.0          0.0         0   0.000000   \n",
       "\n",
       "       longitude  \n",
       "0       0.000000  \n",
       "1       8.565560  \n",
       "2      10.453207  \n",
       "3      10.456244  \n",
       "4      10.542374  \n",
       "...          ...  \n",
       "31638   0.000000  \n",
       "31639   0.000000  \n",
       "31640   0.000000  \n",
       "31641   0.000000  \n",
       "31642   0.000000  \n",
       "\n",
       "[31643 rows x 18 columns]"
      ]
     },
     "execution_count": 16,
     "metadata": {},
     "output_type": "execute_result"
    }
   ],
   "source": [
    "df = pd.read_csv(r'/Users/okoumoumikejunior/project-2023-datalcoholics/website/data/restaurants.csv')\n",
    "df"
   ]
  },
  {
   "cell_type": "code",
   "execution_count": 20,
   "id": "defcf377",
   "metadata": {
    "vscode": {
     "languageId": "python"
    }
   },
   "outputs": [
    {
     "name": "stdout",
     "output_type": "stream",
     "text": [
      "max overall rating: 5.0\n",
      "min overall rating: -1.0\n"
     ]
    }
   ],
   "source": [
    "# max & min for overall rating\n",
    "print(\"max overall rating: \" + str(df[\"overall_rating\"].max()))\n",
    "print(\"min overall rating: \" + str(df[\"overall_rating\"].min()))"
   ]
  },
  {
   "cell_type": "code",
   "execution_count": 22,
   "id": "0d88821b",
   "metadata": {
    "vscode": {
     "languageId": "python"
    }
   },
   "outputs": [
    {
     "name": "stdout",
     "output_type": "stream",
     "text": [
      "max of price of range estimation: 3\n",
      "min of price of range estimation: 0\n"
     ]
    }
   ],
   "source": [
    "# max & min for number of review\n",
    "print(\"max of price of range estimation: \" + str(df[\"price_range_estimation\"].max()))\n",
    "print(\"min of price of range estimation: \" + str(df[\"price_range_estimation\"].min()))"
   ]
  },
  {
   "cell_type": "code",
   "execution_count": 23,
   "id": "e5128a6a",
   "metadata": {
    "vscode": {
     "languageId": "python"
    }
   },
   "outputs": [
    {
     "name": "stdout",
     "output_type": "stream",
     "text": [
      "max of cuisine rating: 5.0\n",
      "min of cuisine rating: 0.0\n"
     ]
    }
   ],
   "source": [
    "# max & min for cuisine rating\n",
    "print(\"max of cuisine rating: \" + str(df[\"cuisine_rating\"].max()))\n",
    "print(\"min of cuisine rating: \" + str(df[\"cuisine_rating\"].min()))"
   ]
  },
  {
   "cell_type": "code",
   "execution_count": 24,
   "id": "67f467f9",
   "metadata": {
    "vscode": {
     "languageId": "python"
    }
   },
   "outputs": [
    {
     "name": "stdout",
     "output_type": "stream",
     "text": [
      "max of service rating: 5.0\n",
      "min of service rating: 0.0\n"
     ]
    }
   ],
   "source": [
    "# max & min for service rating\n",
    "print(\"max of service rating: \" + str(df[\"service_rating\"].max()))\n",
    "print(\"min of service rating: \" + str(df[\"service_rating\"].min()))"
   ]
  },
  {
   "cell_type": "code",
   "execution_count": 25,
   "id": "8fb177b8",
   "metadata": {
    "vscode": {
     "languageId": "python"
    }
   },
   "outputs": [
    {
     "name": "stdout",
     "output_type": "stream",
     "text": [
      "max of quality price rating: 5.0\n",
      "min of quality price rating: 0.0\n"
     ]
    }
   ],
   "source": [
    "# max & min for quality price rating\n",
    "print(\"max of quality price rating: \" + str(df[\"quality_price_rating\"].max()))\n",
    "print(\"min of quality price rating: \" + str(df[\"quality_price_rating\"].min()))"
   ]
  },
  {
   "cell_type": "code",
   "execution_count": 26,
   "id": "61587ccd",
   "metadata": {
    "vscode": {
     "languageId": "python"
    }
   },
   "outputs": [
    {
     "name": "stdout",
     "output_type": "stream",
     "text": [
      "max of mood rating: 5.0\n",
      "min of mood rating: 0.0\n"
     ]
    }
   ],
   "source": [
    "# max & min for mood rating\n",
    "print(\"max of mood rating: \" + str(df[\"mood_rating\"].max()))\n",
    "print(\"min of mood rating: \" + str(df[\"mood_rating\"].min()))"
   ]
  },
  {
   "cell_type": "code",
   "execution_count": 27,
   "id": "29284168",
   "metadata": {
    "vscode": {
     "languageId": "python"
    }
   },
   "outputs": [
    {
     "name": "stdout",
     "output_type": "stream",
     "text": [
      "max of michelin star: 1\n",
      "min of michelin star: 0\n"
     ]
    }
   ],
   "source": [
    "# max & min for michelin star\n",
    "print(\"max of michelin star: \" + str(df[\"michelin\"].max()))\n",
    "print(\"min of michelin star: \" + str(df[\"michelin\"].min()))"
   ]
  },
  {
   "cell_type": "code",
   "execution_count": 28,
   "id": "21204e69",
   "metadata": {
    "vscode": {
     "languageId": "python"
    }
   },
   "outputs": [],
   "source": [
    "df.to_json (r'/Users/okoumoumikejunior/project-2023-datalcoholics/website/data/restaurants.json')"
   ]
  },
  {
   "cell_type": "code",
   "execution_count": null,
   "id": "efafedff",
   "metadata": {
    "vscode": {
     "languageId": "python"
    }
   },
   "outputs": [],
   "source": []
  }
 ],
 "metadata": {
  "kernelspec": {
   "display_name": "SageMath 9.4",
   "language": "sage",
   "name": "SageMath-9.4"
  },
  "language_info": {
   "codemirror_mode": {
    "name": "ipython",
    "version": 3
   },
   "file_extension": ".py",
   "mimetype": "text/x-python",
   "name": "sage",
   "nbconvert_exporter": "python",
   "pygments_lexer": "ipython3",
   "version": "3.9.15"
  }
 },
 "nbformat": 4,
 "nbformat_minor": 5
}
